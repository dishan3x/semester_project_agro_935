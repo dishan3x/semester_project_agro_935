{
 "cells": [
  {
   "cell_type": "markdown",
   "metadata": {},
   "source": [
    "# Random plot generator\n",
    "\n",
    "Generating  randomize treatments for experimental crops. This program would gernerate \n",
    "plot sequences based on two designs.\n",
    "- Complete randomized design\n",
    "- Randomized complete block"
   ]
  },
  {
   "cell_type": "code",
   "execution_count": 5,
   "metadata": {},
   "outputs": [],
   "source": [
    "import random as rd # <import module>  "
   ]
  },
  {
   "cell_type": "code",
   "execution_count": 2,
   "metadata": {},
   "outputs": [],
   "source": [
    "# User inputs\n",
    "\n",
    "# Nitrogen levels in kg of N per hectar\n",
    "tmt = [\"N0\", \"N25\", \"N50\", \"N100\", \"N200\"] # N in kg/ha \n",
    "\n",
    "# Using replicates \n",
    "reps = 4  \n"
   ]
  },
  {
   "cell_type": "markdown",
   "metadata": {},
   "source": [
    "## 1 . Complete randomized design\n",
    "\n",
    "In this design treatments may appear within the same replication more than once."
   ]
  },
  {
   "cell_type": "code",
   "execution_count": 32,
   "metadata": {},
   "outputs": [
    {
     "name": "stdout",
     "output_type": "stream",
     "text": [
      "Replication Count : 1 ['N200', 'N200', 'N100', 'N0', 'N50']\n",
      "Replication Count : 2 ['N25', 'N25', 'N25', 'N100', 'N25']\n",
      "Replication Count : 3 ['N50', 'N0', 'N200', 'N100', 'N100']\n",
      "Replication Count : 4 ['N50', 'N0', 'N200', 'N0', 'N50']\n"
     ]
    }
   ],
   "source": [
    "# Specifying a random seed to reproduce the same results\n",
    "rd.seed(100)\n",
    "\n",
    "# Gather all treatments that to be use in all the replications\n",
    "# Ex : [ tree 1 , tree 2] * [ reps -> 2 ] =  [ tree 1 , tree 2, tree 1 , tree 2] \n",
    "totalTreatments = tmt * reps\n",
    "\n",
    "# Total radom sample of arbitrary set \n",
    "setSize = len(tmt) * reps\n",
    "\n",
    "# Create a random arbitrary sample set \n",
    "randomSampleSet  = rd.sample(totalTreatments,setSize)\n",
    "\n",
    "treatmentCount   = len(tmt) # item count of the given treatments\n",
    "replicationList  = []       # Store the replication temporally\n",
    "count            = 1        # Track iteration of the random sample set\n",
    "replicationCount = 1        # Track replecation count\n",
    "\n",
    "# Seperate the random sample in to replications\n",
    "\n",
    "for treatment in randomSampleSet:\n",
    "    # Append the treatment to list\n",
    "    replicationList.append(treatment)\n",
    "    \n",
    "    # Given replication should carry the number of treatment given from the variable treatmentCount\n",
    "    if (count % treatmentCount)== 0:\n",
    "        print(\"Replication Count :\",replicationCount,replicationList)\n",
    "        replicationCount += 1\n",
    "        replicationList.clear() # remove all the element in the list to create a new replication \n",
    "    count += 1\n",
    "\n",
    "    "
   ]
  },
  {
   "cell_type": "markdown",
   "metadata": {},
   "source": [
    "# 2. Randomized complete block\n",
    "\n",
    "Treatments do not repeat within each replication in this design."
   ]
  },
  {
   "cell_type": "code",
   "execution_count": 30,
   "metadata": {},
   "outputs": [
    {
     "name": "stdout",
     "output_type": "stream",
     "text": [
      "Replecation  : 1 ['N25', 'N200', 'N100', 'N0', 'N50']\n",
      "Replecation  : 2 ['N100', 'N50', 'N200', 'N0', 'N25']\n",
      "Replecation  : 3 ['N25', 'N0', 'N200', 'N50', 'N100']\n",
      "Replecation  : 4 ['N50', 'N200', 'N0', 'N100', 'N25']\n"
     ]
    }
   ],
   "source": [
    "\n",
    "# random.sample() function has the ability to return a replication of a sample treatment set for same random.seed() environment.\n",
    "# WARNING : Change seed value could result identical sample sets\n",
    "\n",
    "# Generating Replications\n",
    "for i in range(reps):\n",
    "    print(\"Replication\",\" :\",i+1, rd.sample(tmt, len(tmt)))\n",
    "\n",
    "\n",
    "\n"
   ]
  }
 ],
 "metadata": {
  "kernelspec": {
   "display_name": "Python 3",
   "language": "python",
   "name": "python3"
  },
  "language_info": {
   "codemirror_mode": {
    "name": "ipython",
    "version": 3
   },
   "file_extension": ".py",
   "mimetype": "text/x-python",
   "name": "python",
   "nbconvert_exporter": "python",
   "pygments_lexer": "ipython3",
   "version": "3.7.4"
  }
 },
 "nbformat": 4,
 "nbformat_minor": 4
}
