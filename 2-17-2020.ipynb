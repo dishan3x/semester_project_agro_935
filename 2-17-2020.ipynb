{
 "cells": [
  {
   "cell_type": "markdown",
   "metadata": {},
   "source": [
    "# While loops"
   ]
  },
  {
   "cell_type": "code",
   "execution_count": 2,
   "metadata": {},
   "outputs": [
    {
     "name": "stdout",
     "output_type": "stream",
     "text": [
      "0\n",
      "1\n",
      "2\n"
     ]
    }
   ],
   "source": [
    "A = 0 \n",
    "while A < 3 : \n",
    "    print(A)\n",
    "    A += 1"
   ]
  },
  {
   "cell_type": "markdown",
   "metadata": {},
   "source": [
    "# Guessing the nunber                       "
   ]
  },
  {
   "cell_type": "code",
   "execution_count": null,
   "metadata": {},
   "outputs": [
    {
     "name": "stdout",
     "output_type": "stream",
     "text": [
      "1\n"
     ]
    }
   ],
   "source": [
    "import random as rd\n",
    "\n",
    "number = rd.randint(1,10)\n",
    "print(number)\n",
    "guess  =''\n",
    "while number != guess:\n",
    "    guess = int(input(\"Guess the number stupid 1-10\"))\n",
    "    if(guess != number):\n",
    "        print(\"Try again !\")\n",
    "    else:\n",
    "        print(\"Right guess\")\n",
    "                      \n",
    "\n"
   ]
  },
  {
   "cell_type": "markdown",
   "metadata": {},
   "source": [
    "# Mixing solute problem "
   ]
  },
  {
   "cell_type": "code",
   "execution_count": 1,
   "metadata": {},
   "outputs": [
    {
     "name": "stdout",
     "output_type": "stream",
     "text": [
      "300\n"
     ]
    }
   ],
   "source": [
    "TankSize = 1500 # gallons\n",
    "TankInitillay = 600\n",
    "startSalt = 5 # lbs\n",
    "count = 0\n",
    "inflow = 9\n",
    "outflow = 6\n",
    "waterlevel = 600\n",
    "while waterlevel < 1500:\n",
    "    waterlevel = waterlevel + inflow - outflow\n",
    "    count += 1\n",
    "    \n",
    "\n",
    "print(count)\n"
   ]
  },
  {
   "cell_type": "code",
   "execution_count": 18,
   "metadata": {},
   "outputs": [
    {
     "name": "stdout",
     "output_type": "stream",
     "text": [
      "1800\n"
     ]
    },
    {
     "data": {
      "text/plain": [
       "0.2308502899775168"
      ]
     },
     "execution_count": 18,
     "metadata": {},
     "output_type": "execute_result"
    }
   ],
   "source": [
    "300 * 6\n",
    "# The amount of gallans which went out from the system\n",
    "TheVal = 300 * 6 \n",
    "print(TheVal)\n",
    "import math \n",
    "(1/5)*(1+math.cos(30))"
   ]
  },
  {
   "cell_type": "code",
   "execution_count": 21,
   "metadata": {},
   "outputs": [
    {
     "name": "stdout",
     "output_type": "stream",
     "text": [
      "1.760226085298369\n",
      "-1793.2397739147016\n"
     ]
    }
   ],
   "source": [
    "amountIn = (1/5)*(1+math.cos(300))*9\n",
    "print(amountIn)\n",
    "salt_outflow = salt_mass/ tank_level * outFlow \n",
    "theamount =  amountIn + 5 - TheVal\n",
    "print(theamount)\n"
   ]
  },
  {
   "cell_type": "markdown",
   "metadata": {},
   "source": [
    "# Fun Fuction "
   ]
  },
  {
   "cell_type": "code",
   "execution_count": 34,
   "metadata": {},
   "outputs": [],
   "source": [
    "\"\"\"\n",
    "Helloo\n",
    "\"\"\"\n",
    "'''\n",
    "asdasd\n",
    "'''\n",
    "def hypontonuse(a,b):\n",
    "    \"\"\"\n",
    "     Function of hypontonuse\n",
    "    \"\"\"\n",
    "    h = (a**2 + b**2)**(0.5)\n",
    "    return h"
   ]
  },
  {
   "cell_type": "code",
   "execution_count": 32,
   "metadata": {},
   "outputs": [
    {
     "data": {
      "text/plain": [
       "\u001b[1;31mSignature:\u001b[0m \u001b[0mhypontonuse\u001b[0m\u001b[1;33m(\u001b[0m\u001b[0ma\u001b[0m\u001b[1;33m,\u001b[0m \u001b[0mb\u001b[0m\u001b[1;33m)\u001b[0m\u001b[1;33m\u001b[0m\u001b[1;33m\u001b[0m\u001b[0m\n",
       "\u001b[1;31mDocstring:\u001b[0m Function of hypontonuse\n",
       "\u001b[1;31mFile:\u001b[0m      c:\\users\\dishan\\desktop\\jupiter\\class\\semester_project_agro_935\\<ipython-input-31-468987de00e4>\n",
       "\u001b[1;31mType:\u001b[0m      function\n"
      ]
     },
     "metadata": {},
     "output_type": "display_data"
    }
   ],
   "source": [
    "\n",
    "\n"
   ]
  }
 ],
 "metadata": {
  "kernelspec": {
   "display_name": "Python 3",
   "language": "python",
   "name": "python3"
  },
  "language_info": {
   "codemirror_mode": {
    "name": "ipython",
    "version": 3
   },
   "file_extension": ".py",
   "mimetype": "text/x-python",
   "name": "python",
   "nbconvert_exporter": "python",
   "pygments_lexer": "ipython3",
   "version": "3.7.4"
  }
 },
 "nbformat": 4,
 "nbformat_minor": 4
}
