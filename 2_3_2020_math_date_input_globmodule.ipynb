{
 "cells": [
  {
   "cell_type": "code",
   "execution_count": 3,
   "metadata": {},
   "outputs": [],
   "source": [
    "import math "
   ]
  },
  {
   "cell_type": "code",
   "execution_count": 5,
   "metadata": {},
   "outputs": [
    {
     "name": "stdout",
     "output_type": "stream",
     "text": [
      "5\n"
     ]
    }
   ],
   "source": [
    "value = 4.999\n",
    "print( round(value))"
   ]
  },
  {
   "cell_type": "code",
   "execution_count": 7,
   "metadata": {},
   "outputs": [
    {
     "data": {
      "text/plain": [
       "4"
      ]
     },
     "execution_count": 7,
     "metadata": {},
     "output_type": "execute_result"
    }
   ],
   "source": [
    "math.floor(value)"
   ]
  },
  {
   "cell_type": "raw",
   "metadata": {},
   "source": [
    "value = 4.000001\n",
    "math.ceil(value)"
   ]
  },
  {
   "cell_type": "code",
   "execution_count": 10,
   "metadata": {},
   "outputs": [
    {
     "name": "stdout",
     "output_type": "stream",
     "text": [
      "3.141592653589793\n"
     ]
    }
   ],
   "source": [
    "print(math.pi)"
   ]
  },
  {
   "cell_type": "code",
   "execution_count": 13,
   "metadata": {},
   "outputs": [
    {
     "data": {
      "text/plain": [
       "1.0"
      ]
     },
     "execution_count": 13,
     "metadata": {},
     "output_type": "execute_result"
    }
   ],
   "source": [
    "math.sin(math.radians(90))"
   ]
  },
  {
   "cell_type": "code",
   "execution_count": 23,
   "metadata": {},
   "outputs": [
    {
     "name": "stdout",
     "output_type": "stream",
     "text": [
      "area of a circle which is rounded to 1 decimal 4.9\n"
     ]
    }
   ],
   "source": [
    "r = 2.5/2\n",
    "area = round(math.pi*math.pow(r,2),1)\n",
    "print(\"area of a circle which is rounded to 1 decimal\",area)\n"
   ]
  },
  {
   "cell_type": "markdown",
   "metadata": {},
   "source": [
    "# Date time module\n"
   ]
  },
  {
   "cell_type": "code",
   "execution_count": 30,
   "metadata": {},
   "outputs": [
    {
     "name": "stdout",
     "output_type": "stream",
     "text": [
      "2020-02-03 15:01:27.050847\n",
      "<class 'datetime.datetime'>\n"
     ]
    }
   ],
   "source": [
    "import datetime\n",
    "\n",
    "currentDate = datetime.datetime.now()\n",
    "print(currentDate)\n",
    "print(type(currentDate))"
   ]
  },
  {
   "cell_type": "code",
   "execution_count": 36,
   "metadata": {},
   "outputs": [
    {
     "name": "stdout",
     "output_type": "stream",
     "text": [
      "2020-02-03\n",
      "3\n",
      "2020-02-03T15:01:27.050847\n"
     ]
    }
   ],
   "source": [
    "print(currentDate.date())\n",
    "print(currentDate.day)\n",
    "print(currentDate.isoformat())"
   ]
  },
  {
   "cell_type": "code",
   "execution_count": 55,
   "metadata": {},
   "outputs": [
    {
     "name": "stdout",
     "output_type": "stream",
     "text": [
      "2020-02-03 15:01:27.050847\n",
      "Mon Feb  3 15:01:27 2020\n"
     ]
    }
   ],
   "source": [
    "# format a date\n",
    "print(currentDate)\n",
    "print(currentDate.strftime('%c'))"
   ]
  },
  {
   "cell_type": "code",
   "execution_count": 54,
   "metadata": {},
   "outputs": [
    {
     "name": "stdout",
     "output_type": "stream",
     "text": [
      "2020-03-02 14:30:00\n"
     ]
    }
   ],
   "source": [
    "# produce a date \n",
    "date_str = \"2020-02-03 14:30:00\"\n",
    "dateNewDate = datetime.datetime.strptime(date_str,\"%Y-%d-%m %H:%M:%S\")\n",
    "print(dateNewDate)"
   ]
  },
  {
   "cell_type": "code",
   "execution_count": 57,
   "metadata": {},
   "outputs": [
    {
     "name": "stdout",
     "output_type": "stream",
     "text": [
      "2020-03-31 00:00:00\n"
     ]
    }
   ],
   "source": [
    "# Build  a date \n",
    "new_date = datetime.datetime(2020,3,31) #rest is optional\n",
    "print(new_date)"
   ]
  },
  {
   "cell_type": "code",
   "execution_count": 67,
   "metadata": {},
   "outputs": [
    {
     "name": "stdout",
     "output_type": "stream",
     "text": [
      "33\n"
     ]
    }
   ],
   "source": [
    "#Arithmatic operation with date \n",
    "date_start = datetime.datetime(2020,1,1)\n",
    "date_end = datetime.datetime.now()\n",
    "date_diff = date_end - date_start\n",
    "print(date_diff.days)"
   ]
  },
  {
   "cell_type": "code",
   "execution_count": 69,
   "metadata": {},
   "outputs": [
    {
     "name": "stdout",
     "output_type": "stream",
     "text": [
      "2907397.181397\n"
     ]
    }
   ],
   "source": [
    "# Working with seconds\n",
    "\n",
    "print(date_diff.total_seconds())\n"
   ]
  },
  {
   "cell_type": "code",
   "execution_count": 2,
   "metadata": {},
   "outputs": [
    {
     "name": "stdin",
     "output_type": "stream",
     "text": [
      " \n"
     ]
    },
    {
     "name": "stdout",
     "output_type": "stream",
     "text": [
      "\n"
     ]
    }
   ],
   "source": [
    "# Input from user \n",
    "name = input()\n",
    "print(name)"
   ]
  },
  {
   "cell_type": "code",
   "execution_count": 5,
   "metadata": {},
   "outputs": [
    {
     "name": "stdin",
     "output_type": "stream",
     "text": [
      "Enter mass of dry soil (g): 34\n",
      "Enter blank read(g/l=L): 56\n",
      "Enter first reading (g/l): 12\n",
      "Enter second reading (g/l): 4\n"
     ]
    },
    {
     "name": "stdout",
     "output_type": "stream",
     "text": [
      "Sand: {sand}% Silt: {silt}% Clay: 0%\n"
     ]
    }
   ],
   "source": [
    " mass_dry_soil = input(\"Enter mass of dry soil (g):\")\n",
    "mass_dry_soil = float(mass_dry_soil)\n",
    "\n",
    "# Request reading of a blank\n",
    "blank_reading = float(input('Enter blank read(g/l=L):'))\n",
    "\n",
    "# first reading \n",
    "first_reading = input('Enter first reading (g/l):')\n",
    "first_reading = float(first_reading)\n",
    "\n",
    "# second reading \n",
    "second_reading = input('Enter second reading (g/l):')\n",
    "second_reading = float(second_reading)\n",
    "\n",
    "sand_content = round((mass_dry_soil - first_reading)/ mass_dry_soil)\n",
    "clay_content = round(second_reading/mass_dry_soil)\n",
    "silt_content = 100 - sand_content - clay_content\n",
    "\n",
    "print('Sand: {sand}%','Silt: {silt}%','Clay: {clay}%'\n",
    "      .format(sand = sand_content,\n",
    "            silt = silt_content,\n",
    "            clay = clay_content))"
   ]
  },
  {
   "cell_type": "markdown",
   "metadata": {},
   "source": [
    "# glob"
   ]
  },
  {
   "cell_type": "code",
   "execution_count": 6,
   "metadata": {},
   "outputs": [],
   "source": [
    "import glob"
   ]
  },
  {
   "cell_type": "code",
   "execution_count": 10,
   "metadata": {},
   "outputs": [
    {
     "name": "stdout",
     "output_type": "stream",
     "text": [
      "C:\\Users\\dishan\\Desktop\\jupiter\\class\\semester_project_agro_935\n"
     ]
    }
   ],
   "source": [
    "#git current working directory\n",
    "print(glob.os.getcwd())\n",
    "#glob.os.chdir('..') # to go one back \n",
    "#glob.os.chdir('name of the folder') # to go one back \n",
    "#glob.os.listdir() # view all the files in the directory"
   ]
  },
  {
   "cell_type": "code",
   "execution_count": 12,
   "metadata": {},
   "outputs": [
    {
     "name": "stdout",
     "output_type": "stream",
     "text": [
      "ProjectReport.md\n",
      "project_proposal.md\n",
      "README.md\n"
     ]
    }
   ],
   "source": [
    "# Bonus \n",
    "xlsfiles = []\n",
    "for file in glob.glob('*.md'):\n",
    "    xlsfiles.append(file)\n",
    "    print(file)\n",
    "    "
   ]
  }
 ],
 "metadata": {
  "kernelspec": {
   "display_name": "Python 3",
   "language": "python",
   "name": "python3"
  },
  "language_info": {
   "codemirror_mode": {
    "name": "ipython",
    "version": 3
   },
   "file_extension": ".py",
   "mimetype": "text/x-python",
   "name": "python",
   "nbconvert_exporter": "python",
   "pygments_lexer": "ipython3",
   "version": "3.7.4"
  }
 },
 "nbformat": 4,
 "nbformat_minor": 4
}
