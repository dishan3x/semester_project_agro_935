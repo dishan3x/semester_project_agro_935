{
 "cells": [
  {
   "cell_type": "markdown",
   "metadata": {},
   "source": [
    "# Challenge: Compute the Day of the year\n",
    "## Dishan Nahitiya  2/3/2020"
   ]
  },
  {
   "cell_type": "code",
   "execution_count": 44,
   "metadata": {},
   "outputs": [
    {
     "name": "stdout",
     "output_type": "stream",
     "text": [
      "Day of the year is (with built in func) : 58\n",
      "Day of the year is without any builtin func 58\n"
     ]
    }
   ],
   "source": [
    "import  math                  # import <module name >\n",
    "from datetime import datetime # import <module name >\n",
    "\n",
    "# current_date = \"29-January-2020 08:00:00\"\n",
    "current_date = \"27-February-2020\"\n",
    "\n",
    "start_date_year = \"1-January-2020\"\n",
    "\n",
    "# Split date inorder to get two types of inputs\n",
    "# input type 1 -> 29-January-2020 08:00:00\n",
    "# input type 2 -> 29-January-2020 \n",
    "dateExtracted = current_date.split(\" \")\n",
    "\n",
    "#Produce the date for input\n",
    "dateProduced = datetime.strptime(dateExtracted[0],\"%d-%B-%Y\")\n",
    "\n",
    "# Calulate the date with built in functions\n",
    "doy = dateProduced.timetuple().tm_yday\n",
    "print(\"Day of the year is (with built in func) :\",doy)\n",
    "\n",
    "# Calcutate the function without any built in function\n",
    "yearStartDateProduced = datetime.strptime(start_date_year,\"%d-%B-%Y\")\n",
    "\n",
    "# Calculate the date difference by days\n",
    "days = dateProduced - yearStartDateProduced\n",
    "\n",
    "\n",
    "# We need to add 1 day for the calcualted day inorder to count the full\n",
    "# day of that date because the difference of two date will igonore the\n",
    "# day we care counting \n",
    "# Ex 29th Jan- 1st Jan = 28 days , but in reality the count of the days should be 29\n",
    "print(\"Day of the year is without any built in func\",days.days+1)\n",
    "\n",
    "\n"
   ]
  }
 ],
 "metadata": {
  "kernelspec": {
   "display_name": "Python 3",
   "language": "python",
   "name": "python3"
  },
  "language_info": {
   "codemirror_mode": {
    "name": "ipython",
    "version": 3
   },
   "file_extension": ".py",
   "mimetype": "text/x-python",
   "name": "python",
   "nbconvert_exporter": "python",
   "pygments_lexer": "ipython3",
   "version": "3.7.4"
  }
 },
 "nbformat": 4,
 "nbformat_minor": 4
}
