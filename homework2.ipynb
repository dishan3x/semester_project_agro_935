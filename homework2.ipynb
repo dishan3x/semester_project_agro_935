{
 "cells": [
  {
   "cell_type": "markdown",
   "metadata": {},
   "source": [
    "# Challenge: Photoperiod\n",
    "## Dishan Nahitiya\n",
    "## 2/7/2019"
   ]
  },
  {
   "cell_type": "code",
   "execution_count": 3,
   "metadata": {},
   "outputs": [
    {
     "name": "stdout",
     "output_type": "stream",
     "text": [
      "************** Welcome to photo period calculater *********************\n",
      "***********************************************************************\n"
     ]
    },
    {
     "name": "stdin",
     "output_type": "stream",
     "text": [
      "Enter the date in the follwing format dd-mmm-yyyy ( Ex: 5-feb-2020 ) : 20-Jul-1981\n",
      "Enter latitude in decimal degrees (North is positive, South is negative) : -33.2\n"
     ]
    },
    {
     "name": "stdout",
     "output_type": "stream",
     "text": [
      "Day length 10.4 hours\n"
     ]
    }
   ],
   "source": [
    "import  math                  # import <module name >\n",
    "from datetime import datetime # import <module name >\n",
    "\n",
    "reqDate  = \"\"\n",
    "dateProduced =\"\"\n",
    "light_intensity = 2.206 * 10**-3\n",
    "\n",
    "print(\"************** Welcome to photo period calculater *********************\")\n",
    "print(\"***********************************************************************\")\n",
    "\n",
    "\n",
    "######  Get the date from the user to get the input date to calculate day of the year ###########\n",
    "# 19-Jul-2020\n",
    "# 20-Jul-1981\n",
    "\n",
    "while True:\n",
    "    requestDate = input('Enter the date in the follwing format dd-mmm-yyyy ( Ex: 5-feb-2020 ) :')\n",
    "    try:\n",
    "        dateProduced = datetime.strptime(requestDate,\"%d-%b-%Y\")\n",
    "        break\n",
    "    except ValueError:\n",
    "        print ('Wrong  input. Please enter the valid date in this format Ex: 5-feb-2020')\n",
    "        continue\n",
    "\n",
    "# **** Get the latitude input as a decimal         \n",
    "while True:\n",
    "    requestLatitude =input('Enter latitude in decimal degrees (North is positive, South is negative) :')\n",
    "    try:\n",
    "        latitude = float(requestLatitude)\n",
    "        break\n",
    "    except ValueError:\n",
    "        print ('Wrong input. Please enter the valid degree in decimal degrees (North is positive, South is negative)')\n",
    "        continue      \n",
    "        \n",
    "############          Calculate the doy         ############################################\n",
    "\n",
    "# According to the paper the Julian date for this is the day of the year\n",
    "doy = dateProduced.timetuple().tm_yday\n",
    "\n",
    "\n",
    "# M means Suns Mean anomaly in\n",
    "M = (0.985600 * doy) - 3.251                                                        # Eq. 4\n",
    "\n",
    "lammdaa  = M + (1.916 * math.sin(M)) + (0.020 * math.sin(2* M)) + 282.565           # Eq. 3\n",
    "\n",
    "\n",
    "# B angle of the sun blow the horizon\n",
    "B = -4.76 - (1.03 * math.log(light_intensity))                                      # Eq. 5\n",
    "\n",
    "# zenithal distance  in degrees  of the sun at theevent  of interest\n",
    "alpha = 90 + B                                                                      # Eq. 6\n",
    "\n",
    "\n",
    "# latitude  in degrees,  north hemisphere is positiveand\n",
    "pi = latitude\n",
    "\n",
    "#the declination  of the sun in degrees.\n",
    "# delta in degrees \n",
    "delta = math.degrees(math.asin(0.39779 * math.sin(math.radians(lammdaa))))          # Eq.2\n",
    "\n",
    "\n",
    "# first = cos(alpha) sec(pi) sec(delta) ]                                     \n",
    "# second = tan(pi) tan(delta)] \n",
    "first = math.cos(math.radians(alpha)) * (1/ math.cos(math.radians(pi)))*(1/math.cos(math.radians(delta)))\n",
    "second =  math.tan(math.radians(pi)) * math.tan(math.radians(delta))\n",
    "day_length = (2/15) * math.degrees(math.acos(first-second))                         # Eq. 1                      \n",
    "\n",
    "\n",
    "print(\"Day length\",round(day_length,1), \"hours\")\n",
    "\n",
    "\n",
    "\n",
    "\n",
    "                                "
   ]
  },
  {
   "cell_type": "code",
   "execution_count": null,
   "metadata": {},
   "outputs": [],
   "source": []
  }
 ],
 "metadata": {
  "kernelspec": {
   "display_name": "Python 3",
   "language": "python",
   "name": "python3"
  },
  "language_info": {
   "codemirror_mode": {
    "name": "ipython",
    "version": 3
   },
   "file_extension": ".py",
   "mimetype": "text/x-python",
   "name": "python",
   "nbconvert_exporter": "python",
   "pygments_lexer": "ipython3",
   "version": "3.7.4"
  }
 },
 "nbformat": 4,
 "nbformat_minor": 4
}
