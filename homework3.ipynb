{
 "cells": [
  {
   "cell_type": "markdown",
   "metadata": {},
   "source": [
    "# Random plot generator\n",
    "\n",
    "Generating  randomize treatments for experimental crops. This program would gernerate \n",
    "plot sequences based on two designs.\n",
    "- Complete randomized design\n",
    "- Randomized complete block"
   ]
  },
  {
   "cell_type": "code",
   "execution_count": 3,
   "metadata": {},
   "outputs": [],
   "source": [
    "import random as rd # <import module>  "
   ]
  },
  {
   "cell_type": "code",
   "execution_count": 5,
   "metadata": {},
   "outputs": [],
   "source": [
    "# User inputs\n",
    "\n",
    "# Nitrogen levels in kg of N per hectar as treatments\n",
    "tmt = [\"N0\", \"N25\", \"N50\", \"N100\", \"N200\",\"N500\"] # N in kg/ha \n",
    "\n",
    "# Using replicates \n",
    "reps = 5  \n"
   ]
  },
  {
   "cell_type": "markdown",
   "metadata": {},
   "source": [
    "## 1 . Complete randomized design\n",
    "\n",
    "In this design treatments may appear within the same replication more than once."
   ]
  },
  {
   "cell_type": "code",
   "execution_count": 6,
   "metadata": {},
   "outputs": [
    {
     "name": "stdout",
     "output_type": "stream",
     "text": [
      "Replication : 1 ['N200', 'N50', 'N200', 'N0', 'N500', 'N200']\n",
      "Replication : 2 ['N0', 'N500', 'N25', 'N200', 'N100', 'N500']\n",
      "Replication : 3 ['N25', 'N50', 'N100', 'N500', 'N0', 'N200']\n",
      "Replication : 4 ['N500', 'N0', 'N25', 'N50', 'N100', 'N0']\n",
      "Replication : 5 ['N25', 'N100', 'N25', 'N100', 'N50', 'N50']\n"
     ]
    }
   ],
   "source": [
    "# Specifying a random seed to reproduce the same results\n",
    "rd.seed(100)\n",
    "\n",
    "# Gather all treatments that to be use in all the replications\n",
    "# Ex : [ treatement 1 , treatement 2] * [ reps -> 2 ] =  [ treatement 1 , treatement 2, treatement 1 , treatement 2] \n",
    "totalTreatments = tmt * reps\n",
    "\n",
    "# Total radom sample of arbitrary set \n",
    "setSize = len(tmt) * reps\n",
    "\n",
    "# Create a random arbitrary sample set \n",
    "randomSampleSet  = rd.sample(totalTreatments,setSize)\n",
    "\n",
    "treatmentCount   = len(tmt) # item count of the given treatments\n",
    "replicationList  = []       # Store the replication temporally\n",
    "count            = 1        # Track iteration of the random sample set\n",
    "replicationCount = 1        # Track replecation count\n",
    "\n",
    "# Seperate the random sample in to replications\n",
    "\n",
    "for treatment in randomSampleSet:\n",
    "    \n",
    "    # Append the treatment to list\n",
    "    replicationList.append(treatment)\n",
    "    \n",
    "    # Given replication should carry number of treatments equal to treatmentCount\n",
    "    if (count % treatmentCount)== 0:\n",
    "        print(\"Replication :\",replicationCount,replicationList)\n",
    "        replicationCount += 1\n",
    "        replicationList.clear() # remove all the element in the list to create a new replication \n",
    "    count += 1\n",
    "\n",
    "    "
   ]
  },
  {
   "cell_type": "markdown",
   "metadata": {},
   "source": [
    "# 2. Randomized complete block\n",
    "\n",
    "Treatments do not repeat within each replication in this design."
   ]
  },
  {
   "cell_type": "code",
   "execution_count": 9,
   "metadata": {},
   "outputs": [
    {
     "name": "stdout",
     "output_type": "stream",
     "text": [
      "Replication  : 1 ['N25', 'N50', 'N0', 'N100', 'N200']\n",
      "Replication  : 2 ['N25', 'N50', 'N200', 'N100', 'N0']\n",
      "Replication  : 3 ['N100', 'N200', 'N50', 'N25', 'N0']\n",
      "Replication  : 4 ['N25', 'N0', 'N100', 'N50', 'N200']\n"
     ]
    }
   ],
   "source": [
    "\n",
    "# random.sample() function has the ability to return a sample of all treatments(replicaton) in a perpetual random.seed() environment.\n",
    "# WARNING : Change seed value could result identical sample sets\n",
    "\n",
    "# Generating Replications\n",
    "for i in range(reps):\n",
    "    print(\"Replication\",\" :\",i+1, rd.sample(tmt, len(tmt)))\n",
    "\n",
    "\n",
    "\n"
   ]
  }
 ],
 "metadata": {
  "kernelspec": {
   "display_name": "Python 3",
   "language": "python",
   "name": "python3"
  },
  "language_info": {
   "codemirror_mode": {
    "name": "ipython",
    "version": 3
   },
   "file_extension": ".py",
   "mimetype": "text/x-python",
   "name": "python",
   "nbconvert_exporter": "python",
   "pygments_lexer": "ipython3",
   "version": "3.7.4"
  }
 },
 "nbformat": 4,
 "nbformat_minor": 4
}
