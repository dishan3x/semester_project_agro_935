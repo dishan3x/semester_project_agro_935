{
 "cells": [
  {
   "cell_type": "code",
   "execution_count": 45,
   "metadata": {},
   "outputs": [
    {
     "name": "stdout",
     "output_type": "stream",
     "text": [
      "https://api.nasa.gov/insight_weather/?api_key=Pe4SC9Bhnh8MdDF2SoN1hJC98EOWzinga4lP8dDT&feedtype=json&ver=1.0\n"
     ]
    }
   ],
   "source": [
    "import urllib,json\n",
    "import pprint as pp\n",
    "api_key = \"Pe4SC9Bhnh8MdDF2SoN1hJC98EOWzinga4lP8dDT\"\n",
    "api_root = \"https://api.nasa.gov/\"\n",
    "api_product = \"insight_weather\"\n",
    "URL = api_root + api_product + \"/?\" + \"api_key=\"+api_key+\"&feedtype=json&ver=1.0\"\n",
    "print(URL)"
   ]
  },
  {
   "cell_type": "code",
   "execution_count": 47,
   "metadata": {},
   "outputs": [
    {
     "name": "stdout",
     "output_type": "stream",
     "text": [
      "-61.32\n",
      "-67.186\n",
      "-64.969\n",
      "-55.896\n",
      "-59.704\n",
      "-64.773\n",
      "-57.232\n"
     ]
    }
   ],
   "source": [
    "json_url = urllib.request.urlopen(URL)\n",
    "data = json.loads(json_url.read())\n",
    "#pp.pprint(data)\n",
    "#sol = list(data.keys())\n",
    "sol = data[\"sol_keys\"]\n",
    "lengthOfSol  = len(sol)\n",
    "#{'443': {'AT': {'av': -61.32, 'ct': 346814, 'mn': -94.768, 'mx': -12.316},\n",
    "for i in sol:\n",
    "    print(data[i]['AT']['av'])"
   ]
  }
 ],
 "metadata": {
  "kernelspec": {
   "display_name": "Python 3",
   "language": "python",
   "name": "python3"
  },
  "language_info": {
   "codemirror_mode": {
    "name": "ipython",
    "version": 3
   },
   "file_extension": ".py",
   "mimetype": "text/x-python",
   "name": "python",
   "nbconvert_exporter": "python",
   "pygments_lexer": "ipython3",
   "version": "3.7.4"
  }
 },
 "nbformat": 4,
 "nbformat_minor": 4
}
