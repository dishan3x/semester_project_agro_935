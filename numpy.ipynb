{
 "cells": [
  {
   "cell_type": "code",
   "execution_count": 4,
   "metadata": {},
   "outputs": [
    {
     "data": {
      "text/plain": [
       "[1, 2, 3, 4, 1, 2, 3, 4, 1, 2, 3, 4]"
      ]
     },
     "execution_count": 4,
     "metadata": {},
     "output_type": "execute_result"
    }
   ],
   "source": [
    "# import module\n",
    "import numpy as np\n",
    "A = [1,2,3,4]\n",
    "A*3"
   ]
  },
  {
   "cell_type": "code",
   "execution_count": 6,
   "metadata": {},
   "outputs": [
    {
     "data": {
      "text/plain": [
       "array([ 3,  6,  9, 12])"
      ]
     },
     "execution_count": 6,
     "metadata": {},
     "output_type": "execute_result"
    }
   ],
   "source": [
    "A = np.array([1,2,3,4])\n",
    "B = np.array([5,6,7,8])\n",
    "\n",
    "A * 3\n"
   ]
  },
  {
   "cell_type": "code",
   "execution_count": 8,
   "metadata": {},
   "outputs": [
    {
     "data": {
      "text/plain": [
       "array([ 5, 12, 21, 32])"
      ]
     },
     "execution_count": 8,
     "metadata": {},
     "output_type": "execute_result"
    }
   ],
   "source": [
    "A*B"
   ]
  },
  {
   "cell_type": "code",
   "execution_count": 13,
   "metadata": {},
   "outputs": [
    {
     "name": "stdout",
     "output_type": "stream",
     "text": [
      "[ 6  8 10 12]\n",
      "[-4 -4 -4 -4]\n",
      "[0.2        0.33333333 0.42857143 0.5       ]\n",
      "[ 5 12 21 32]\n",
      "[5.09901951 6.32455532 7.61577311 8.94427191]\n",
      "10\n"
     ]
    },
    {
     "data": {
      "text/plain": [
       "26"
      ]
     },
     "execution_count": 13,
     "metadata": {},
     "output_type": "execute_result"
    }
   ],
   "source": [
    "print(A+B)\n",
    "print(A-B)\n",
    "print(A/B)\n",
    "print(A*B)\n",
    "print(np.sqrt(A**2+B**2))\n",
    "print(A.sum())\n",
    "B.sum()"
   ]
  },
  {
   "cell_type": "code",
   "execution_count": 25,
   "metadata": {},
   "outputs": [
    {
     "name": "stdout",
     "output_type": "stream",
     "text": [
      "[[1 2 3]\n",
      " [4 5 6]]\n",
      "[[0.3 0.7]\n",
      " [0.2 0.1]\n",
      " [0.5 0.1]]\n"
     ]
    },
    {
     "data": {
      "text/plain": [
       "array([[2.2, 1.2],\n",
       "       [5.2, 3.9]])"
      ]
     },
     "execution_count": 25,
     "metadata": {},
     "output_type": "execute_result"
    }
   ],
   "source": [
    "# linear algebra for  dot product\n",
    "twoDimen  = np.array([[1,2,3],[4,5,6]])\n",
    "weights = np.array([[0.3,0.7],[0.2,0.1],[0.5,0.1]])\n",
    "print(twoDimen)\n",
    "print(weights)\n",
    "np.dot(twoDimen,weights)"
   ]
  },
  {
   "cell_type": "code",
   "execution_count": 29,
   "metadata": {},
   "outputs": [
    {
     "name": "stdout",
     "output_type": "stream",
     "text": [
      "(2, 3)\n",
      "2\n",
      "int32\n",
      "6\n"
     ]
    }
   ],
   "source": [
    "c= np.array([[1,2,3],[4,5,6]])\n",
    "print(c.shape)\n",
    "print(c.ndim)\n",
    "print(c.dtype)\n",
    "print(c.size)"
   ]
  },
  {
   "cell_type": "code",
   "execution_count": 34,
   "metadata": {},
   "outputs": [
    {
     "name": "stdout",
     "output_type": "stream",
     "text": [
      "[[1 2 3 4]\n",
      " [5 6 7 8]]\n",
      "[[1 2 3 4]\n",
      " [5 6 7 8]]\n",
      "[[1 2 3 4]\n",
      " [5 6 7 8]]\n"
     ]
    }
   ],
   "source": [
    "D = np.array([[1,2,3,4],[5,6,7,8]])\n",
    "print(D)\n",
    "D.reshape(4,2)\n",
    "print(D)\n",
    "D.reshape(2,2,2)\n",
    "print(D)\n"
   ]
  },
  {
   "cell_type": "code",
   "execution_count": 40,
   "metadata": {},
   "outputs": [
    {
     "data": {
      "text/plain": [
       "array([ True, False,  True, False])"
      ]
     },
     "execution_count": 40,
     "metadata": {},
     "output_type": "execute_result"
    }
   ],
   "source": [
    "idx1  = A == 3\n",
    "idx2 = A  == 1 \n",
    "idx1 & idx2\n",
    "idx1 | idx2"
   ]
  },
  {
   "cell_type": "code",
   "execution_count": 42,
   "metadata": {},
   "outputs": [],
   "source": [
    "# Slicing and  indexing\n",
    "#x = np.arange()"
   ]
  },
  {
   "cell_type": "code",
   "execution_count": 54,
   "metadata": {},
   "outputs": [
    {
     "name": "stdout",
     "output_type": "stream",
     "text": [
      "[[5 0 3 3 7]\n",
      " [9 3 5 2 4]\n",
      " [7 6 8 8 1]\n",
      " [6 7 7 8 1]\n",
      " [5 9 8 9 4]]\n",
      "---\n"
     ]
    },
    {
     "data": {
      "text/plain": [
       "array([5, 0, 3, 3, 7])"
      ]
     },
     "execution_count": 54,
     "metadata": {},
     "output_type": "execute_result"
    }
   ],
   "source": [
    "np.random.seed(0)\n",
    "M = np.random.randint(0,10,[5,5])\n",
    "print(M)\n",
    "print(\"---\")\n",
    "M\n",
    "# Top row\n",
    "M[0]"
   ]
  },
  {
   "cell_type": "code",
   "execution_count": 56,
   "metadata": {},
   "outputs": [
    {
     "data": {
      "text/plain": [
       "array([5, 9, 8, 9, 4])"
      ]
     },
     "execution_count": 56,
     "metadata": {},
     "output_type": "execute_result"
    }
   ],
   "source": [
    "# Bottom row\n",
    "M[4]"
   ]
  },
  {
   "cell_type": "code",
   "execution_count": 62,
   "metadata": {},
   "outputs": [
    {
     "data": {
      "text/plain": [
       "array([7, 4, 1, 1, 4])"
      ]
     },
     "execution_count": 62,
     "metadata": {},
     "output_type": "execute_result"
    }
   ],
   "source": [
    "# Right xolomn\n",
    "M[:,4]"
   ]
  },
  {
   "cell_type": "code",
   "execution_count": 64,
   "metadata": {},
   "outputs": [
    {
     "data": {
      "text/plain": [
       "array([0, 3, 6, 7, 9])"
      ]
     },
     "execution_count": 64,
     "metadata": {},
     "output_type": "execute_result"
    }
   ],
   "source": [
    "# Left xolomn\n",
    "M[:,1]"
   ]
  },
  {
   "cell_type": "code",
   "execution_count": 73,
   "metadata": {},
   "outputs": [
    {
     "data": {
      "text/plain": [
       "array([[3, 3, 7],\n",
       "       [5, 2, 4],\n",
       "       [8, 8, 1]])"
      ]
     },
     "execution_count": 73,
     "metadata": {},
     "output_type": "execute_result"
    }
   ],
   "source": [
    "# Upper right 3*3\n",
    "M[0:3,2:]"
   ]
  },
  {
   "cell_type": "code",
   "execution_count": 76,
   "metadata": {},
   "outputs": [
    {
     "data": {
      "text/plain": [
       "array([ 7.00614099,  7.36812992,  4.61247477,  6.53519843,  7.30551668,\n",
       "        5.94106383,  2.25149802,  5.74559544,  8.31596474,  3.26358035,\n",
       "        4.62591365,  3.91211612,  9.62315932,  6.68073689,  6.01865459,\n",
       "        3.07520981,  6.34812298,  3.31416835,  5.0795764 ,  3.4103848 ,\n",
       "        6.69108324,  6.44147704,  4.47925311,  5.99001678,  2.26734623,\n",
       "        1.27185602,  6.09847925,  5.41668374,  6.58757859, 10.95786194,\n",
       "        7.36119872,  2.71794444,  7.79254072,  1.71023147,  3.84603849,\n",
       "        4.82939599,  9.2833568 ,  3.13811294,  2.93390365,  4.75386869,\n",
       "        3.34130428,  7.81658981,  2.30017123,  2.13132837,  3.90544989,\n",
       "        3.75491887,  9.82383013,  7.37355202,  5.2188781 ,  1.9364112 ,\n",
       "        7.11090744,  2.49946163,  1.13807226,  7.97007448,  5.79235653,\n",
       "        7.30214706,  5.79681913,  7.14207653,  3.37243602,  2.4143929 ,\n",
       "        6.7039863 ,  2.99147584,  3.27612556,  3.86116874,  5.0436979 ,\n",
       "        4.11501522,  1.56262177,  3.39095399, -0.55850788,  6.56307863,\n",
       "        0.99485586,  2.23904165,  5.1304127 ,  3.15109251,  8.85753649,\n",
       "        1.76785773,  5.66762717,  4.90179295,  2.07976626,  6.30819165,\n",
       "        4.57113417,  6.92947638,  7.05876038, 10.40808987,  8.34131987,\n",
       "        4.07704541,  4.40155206,  7.74914899,  6.63815933,  6.60032882,\n",
       "        0.95760989,  4.93918469,  3.15492273,  5.6998115 ,  4.75462403,\n",
       "        7.27544727,  5.79304554,  6.96581991,  3.83395226,  2.63888436])"
      ]
     },
     "execution_count": 76,
     "metadata": {},
     "output_type": "execute_result"
    }
   ],
   "source": [
    "mu = 5\n",
    "sigma = 2.5\n",
    "np.random.normal(mu,sigma,100)"
   ]
  },
  {
   "cell_type": "code",
   "execution_count": 78,
   "metadata": {},
   "outputs": [
    {
     "data": {
      "text/plain": [
       "array([[0., 0., 0., 0., 0., 0.],\n",
       "       [0., 0., 0., 0., 0., 0.],\n",
       "       [0., 0., 0., 0., 0., 0.],\n",
       "       [0., 0., 0., 0., 0., 0.],\n",
       "       [0., 0., 0., 0., 0., 0.]])"
      ]
     },
     "execution_count": 78,
     "metadata": {},
     "output_type": "execute_result"
    }
   ],
   "source": [
    "np.zeros([5,6])"
   ]
  },
  {
   "cell_type": "code",
   "execution_count": 80,
   "metadata": {},
   "outputs": [
    {
     "data": {
      "text/plain": [
       "array([[1., 1., 1., 1., 1., 1.],\n",
       "       [1., 1., 1., 1., 1., 1.],\n",
       "       [1., 1., 1., 1., 1., 1.],\n",
       "       [1., 1., 1., 1., 1., 1.],\n",
       "       [1., 1., 1., 1., 1., 1.]])"
      ]
     },
     "execution_count": 80,
     "metadata": {},
     "output_type": "execute_result"
    }
   ],
   "source": [
    "np.ones([5,6])"
   ]
  },
  {
   "cell_type": "code",
   "execution_count": 82,
   "metadata": {},
   "outputs": [
    {
     "data": {
      "text/plain": [
       "array([[nan, nan, nan, nan, nan, nan],\n",
       "       [nan, nan, nan, nan, nan, nan],\n",
       "       [nan, nan, nan, nan, nan, nan],\n",
       "       [nan, nan, nan, nan, nan, nan],\n",
       "       [nan, nan, nan, nan, nan, nan]])"
      ]
     },
     "execution_count": 82,
     "metadata": {},
     "output_type": "execute_result"
    }
   ],
   "source": [
    "np.ones([5,6])*np.nan"
   ]
  },
  {
   "cell_type": "code",
   "execution_count": 97,
   "metadata": {},
   "outputs": [
    {
     "data": {
      "text/plain": [
       "array([[-102., -101., -100.,  -99.,  -98.],\n",
       "       [-102., -101., -100.,  -99.,  -98.],\n",
       "       [-102., -101., -100.,  -99.,  -98.],\n",
       "       [-102., -101., -100.,  -99.,  -98.],\n",
       "       [-102., -101., -100.,  -99.,  -98.]])"
      ]
     },
     "execution_count": 97,
     "metadata": {},
     "output_type": "execute_result"
    }
   ],
   "source": [
    "N = 5\n",
    "\n",
    "lat = np.linspace(36,40,N)\n",
    "lon = np.linspace(-102,-98,N)\n",
    "\n",
    "ks_grid = np.meshgrid(lon,lat)\n",
    "ks_grid\n",
    "longgrid,latgrid = np.meshgrid(lon,lat) \n",
    "longgrid"
   ]
  },
  {
   "cell_type": "code",
   "execution_count": 117,
   "metadata": {},
   "outputs": [],
   "source": [
    "import matplotlib.pyplot as plt\n",
    "T_avg = 15\n",
    "T_amp = 10 \n",
    "doy = np.arange(1,366)\n",
    "x = 2* np.pi * doy /365\n",
    "y = T_avg + T_amp * np.sin(x)\n",
    "\n",
    "noise = np.random.normal(0,3,x.size)\n",
    "y_noise = y+ noise"
   ]
  },
  {
   "cell_type": "code",
   "execution_count": 120,
   "metadata": {},
   "outputs": [
    {
     "data": {
      "image/png": "[encoded data removed]",
      "text/plain": [
       "<Figure size 432x288 with 1 Axes>"
      ]
     },
     "metadata": {
      "needs_background": "light"
     },
     "output_type": "display_data"
    }
   ],
   "source": [
    "plt.plot(x,y)\n",
    "plt.plot(x,y_noise)\n",
    "plt.show()"
   ]
  },
  {
   "cell_type": "code",
   "execution_count": 125,
   "metadata": {},
   "outputs": [
    {
     "name": "stdout",
     "output_type": "stream",
     "text": [
      "0.21236099306494022\n"
     ]
    },
    {
     "data": {
      "text/plain": [
       "2.8156347132486355"
      ]
     },
     "execution_count": 125,
     "metadata": {},
     "output_type": "execute_result"
    }
   ],
   "source": [
    "print(noise.mean())\n",
    "noise.std()"
   ]
  },
  {
   "cell_type": "code",
   "execution_count": null,
   "metadata": {},
   "outputs": [],
   "source": []
  }
 ],
 "metadata": {
  "kernelspec": {
   "display_name": "Python 3",
   "language": "python",
   "name": "python3"
  },
  "language_info": {
   "codemirror_mode": {
    "name": "ipython",
    "version": 3
   },
   "file_extension": ".py",
   "mimetype": "text/x-python",
   "name": "python",
   "nbconvert_exporter": "python",
   "pygments_lexer": "ipython3",
   "version": "3.7.4"
  }
 },
 "nbformat": 4,
 "nbformat_minor": 4
}
